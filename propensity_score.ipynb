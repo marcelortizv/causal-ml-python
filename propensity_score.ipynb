{
 "cells": [
  {
   "cell_type": "markdown",
   "metadata": {},
   "source": [
    "# Propensity Score\n",
    "\n",
    "The propensity score is just a dimensional reduction tool\n",
    "\n",
    "Theorem: Consider the ignorability assumption in Causal Inference which states ${Y(1), Y(0) \\perp T_{i}} \\mid X$, meaning once we know $X$, knowing the treatment assignment $T_{i}$ does not give us any additional information about the potential outcomes $Y(1)$ and $Y(0)$. Then, if strong ignorability holds conditional on X, then it also holds conditional on the scalar propensity score $e(X) = P(T_{i} = 1 \\mid X)$. That is, if ${Y(1), Y(0) \\perp T_{i}} \\mid X$, then ${Y(1), Y(0) \\perp T_{i}} \\mid e(X)$. We can easily prove it (applying LIE), but it is not necessary.\n",
    "\n",
    "The propensity score $e(X) = P(T_{i} = 1 \\mid X)$ is a balancing score, meaning that it balances the covariates $X$ between the treatment and control groups."
   ]
  },
  {
   "cell_type": "code",
   "execution_count": 3,
   "metadata": {},
   "outputs": [],
   "source": [
    "import warnings\n",
    "warnings.filterwarnings('ignore')\n",
    "\n",
    "import pandas as pd\n",
    "import numpy as np\n",
    "from matplotlib import style\n",
    "from matplotlib import pyplot as plt\n",
    "import seaborn as sns\n",
    "\n",
    "from sklearn.linear_model import LogisticRegression, LinearRegression\n",
    "\n",
    "%matplotlib inline\n",
    "\n",
    "style.use(\"fivethirtyeight\")\n",
    "pd.set_option(\"display.max_columns\", 6)"
   ]
  },
  {
   "cell_type": "code",
   "execution_count": 4,
   "metadata": {},
   "outputs": [
    {
     "data": {
      "text/html": [
       "<div>\n",
       "<style scoped>\n",
       "    .dataframe tbody tr th:only-of-type {\n",
       "        vertical-align: middle;\n",
       "    }\n",
       "\n",
       "    .dataframe tbody tr th {\n",
       "        vertical-align: top;\n",
       "    }\n",
       "\n",
       "    .dataframe thead th {\n",
       "        text-align: right;\n",
       "    }\n",
       "</style>\n",
       "<table border=\"1\" class=\"dataframe\">\n",
       "  <thead>\n",
       "    <tr style=\"text-align: right;\">\n",
       "      <th></th>\n",
       "      <th>schoolid</th>\n",
       "      <th>intervention</th>\n",
       "      <th>achievement_score</th>\n",
       "      <th>...</th>\n",
       "      <th>school_ethnic_minority</th>\n",
       "      <th>school_poverty</th>\n",
       "      <th>school_size</th>\n",
       "    </tr>\n",
       "  </thead>\n",
       "  <tbody>\n",
       "    <tr>\n",
       "      <th>0</th>\n",
       "      <td>76</td>\n",
       "      <td>1</td>\n",
       "      <td>0.277359</td>\n",
       "      <td>...</td>\n",
       "      <td>-1.310927</td>\n",
       "      <td>0.224077</td>\n",
       "      <td>-0.426757</td>\n",
       "    </tr>\n",
       "    <tr>\n",
       "      <th>1</th>\n",
       "      <td>76</td>\n",
       "      <td>1</td>\n",
       "      <td>-0.449646</td>\n",
       "      <td>...</td>\n",
       "      <td>-1.310927</td>\n",
       "      <td>0.224077</td>\n",
       "      <td>-0.426757</td>\n",
       "    </tr>\n",
       "    <tr>\n",
       "      <th>2</th>\n",
       "      <td>76</td>\n",
       "      <td>1</td>\n",
       "      <td>0.769703</td>\n",
       "      <td>...</td>\n",
       "      <td>-1.310927</td>\n",
       "      <td>0.224077</td>\n",
       "      <td>-0.426757</td>\n",
       "    </tr>\n",
       "    <tr>\n",
       "      <th>3</th>\n",
       "      <td>76</td>\n",
       "      <td>1</td>\n",
       "      <td>-0.121763</td>\n",
       "      <td>...</td>\n",
       "      <td>-1.310927</td>\n",
       "      <td>0.224077</td>\n",
       "      <td>-0.426757</td>\n",
       "    </tr>\n",
       "    <tr>\n",
       "      <th>4</th>\n",
       "      <td>76</td>\n",
       "      <td>1</td>\n",
       "      <td>1.526147</td>\n",
       "      <td>...</td>\n",
       "      <td>-1.310927</td>\n",
       "      <td>0.224077</td>\n",
       "      <td>-0.426757</td>\n",
       "    </tr>\n",
       "  </tbody>\n",
       "</table>\n",
       "<p>5 rows × 13 columns</p>\n",
       "</div>"
      ],
      "text/plain": [
       "   schoolid  intervention  achievement_score  ...  school_ethnic_minority  \\\n",
       "0        76             1           0.277359  ...               -1.310927   \n",
       "1        76             1          -0.449646  ...               -1.310927   \n",
       "2        76             1           0.769703  ...               -1.310927   \n",
       "3        76             1          -0.121763  ...               -1.310927   \n",
       "4        76             1           1.526147  ...               -1.310927   \n",
       "\n",
       "   school_poverty  school_size  \n",
       "0        0.224077    -0.426757  \n",
       "1        0.224077    -0.426757  \n",
       "2        0.224077    -0.426757  \n",
       "3        0.224077    -0.426757  \n",
       "4        0.224077    -0.426757  \n",
       "\n",
       "[5 rows x 13 columns]"
      ]
     },
     "execution_count": 4,
     "metadata": {},
     "output_type": "execute_result"
    }
   ],
   "source": [
    "# read the data\n",
    "data = pd.read_csv(\"data/learning_mindset.csv\")\n",
    "data.head()"
   ]
  },
  {
   "cell_type": "code",
   "execution_count": 5,
   "metadata": {},
   "outputs": [
    {
     "data": {
      "text/plain": [
       "Index(['schoolid', 'intervention', 'achievement_score', 'success_expect',\n",
       "       'ethnicity', 'gender', 'frst_in_family', 'school_urbanicity',\n",
       "       'school_mindset', 'school_achievement', 'school_ethnic_minority',\n",
       "       'school_poverty', 'school_size'],\n",
       "      dtype='object')"
      ]
     },
     "execution_count": 5,
     "metadata": {},
     "output_type": "execute_result"
    }
   ],
   "source": [
    "data.columns"
   ]
  },
  {
   "cell_type": "code",
   "execution_count": 6,
   "metadata": {},
   "outputs": [
    {
     "data": {
      "text/plain": [
       "(10391, 13)"
      ]
     },
     "execution_count": 6,
     "metadata": {},
     "output_type": "execute_result"
    }
   ],
   "source": [
    "data.shape"
   ]
  },
  {
   "cell_type": "markdown",
   "metadata": {},
   "source": [
    "***\n",
    "### Data Description:\n",
    "\n",
    "The dataset in question pertains to the \"National Study of Learning Mindsets,\" a randomized research study conducted in U.S. public high schools. Its primary objective is to investigate the impact of instilling a growth mindset in students. In this study, students were exposed to seminars aimed at fostering a growth mindset, and their academic performance in subsequent college years was assessed, resulting in standardized achievement scores.\n",
    "\n",
    "In addition to the treated and outcome variables, the dataset includes various other relevant features:\n",
    "\n",
    "* `schoolid`: An identifier for each student's school.\n",
    "* `success_expect`: Self-reported expectations for future success, serving as a proxy for prior achievement, measured prior to random assignment.\n",
    "* `ethnicity`: A categorical variable indicating the student's race/ethnicity.\n",
    "* `gender`: A categorical variable reflecting the student's identified gender.\n",
    "* `frst_in_family`: A categorical variable identifying whether a student is the first in their family to attend college (first-generation status).\n",
    "* `school_urbanicity`: A categorical variable representing the urbanicity level of the school, such as rural, suburban, etc.\n",
    "* `school_mindset`: The school-level mean of students' fixed mindsets, reported before random assignment and standardized.\n",
    "* `school_achievement`: School achievement level, measured through test scores and college preparation for the preceding four cohorts of students, standardized.\n",
    "* `school_ethnic_minority`: School racial/ethnic minority composition, denoting the percentage of the student body that is Black, Latino, or Native American, standardized.\n",
    "* `school_poverty`: School poverty concentration, indicating the percentage of students from families with incomes falling below the federal poverty line, standardized.\n",
    "* `school_size`: The total number of students across all four grade levels in the school, standardized.\n",
    "\n",
    "This dataset is a simulated version of the original data, with statistical properties matching those provided by Athey and Wager, as the real data is not publicly available to safeguard students' privacy. Researchers can use this dataset to explore various factors' influence on academic performance and the effectiveness of growth mindset interventions in a high school setting.\n",
    "\n",
    "***\n",
    "\n",
    "In this dataset, even though the opportunity to participate was random, participation itself is not (non-compliance?). One can argue that there exists selection bias here: students who chose to participate in the study may be different from those who did not. For example, students who chose to participate may be more motivated to learn, and thus may have higher achievement scores. This is a problem because we want to estimate the effect of the treatment on the outcome, but the participation is not randomly assigned. We can use the propensity score to adjust for this selection bias."
   ]
  },
  {
   "cell_type": "code",
   "execution_count": 7,
   "metadata": {},
   "outputs": [
    {
     "data": {
      "text/plain": [
       "intervention\n",
       "0    7007\n",
       "1    3384\n",
       "dtype: int64"
      ]
     },
     "execution_count": 7,
     "metadata": {},
     "output_type": "execute_result"
    }
   ],
   "source": [
    "# count the number of participants in each intervention group\n",
    "data.groupby(\"intervention\").size()"
   ]
  },
  {
   "cell_type": "code",
   "execution_count": 8,
   "metadata": {},
   "outputs": [
    {
     "data": {
      "text/plain": [
       "success_expect\n",
       "1    0.271739\n",
       "2    0.265957\n",
       "3    0.294118\n",
       "4    0.271617\n",
       "5    0.311070\n",
       "6    0.354287\n",
       "7    0.362319\n",
       "Name: intervention, dtype: float64"
      ]
     },
     "execution_count": 8,
     "metadata": {},
     "output_type": "execute_result"
    }
   ],
   "source": [
    "# Students with higher self-reported high expectations are more likely to have joined the growth mindset seminar.\n",
    "data.groupby(\"success_expect\")[\"intervention\"].mean()"
   ]
  },
  {
   "cell_type": "markdown",
   "metadata": {},
   "source": [
    "it's hard to compare the results of students who got the treatment and those who didn't. Why? Because the students who are more ambitious are more likely to take the treatment and achieve more in life.\n",
    "\n",
    "But, if I pick two people, one who got the treatment and one who didn't, and they both had the same chance of getting the treatment, then they are comparable. This means that the only reason one got the treatment and the other didn't is just \"luck\".\n",
    "\n",
    "So, when we keep this \"chance of getting treatment\" (propensity score) the same, it's like making the data look `as good as random`. It helps us make fair comparisons between treated and non-treated individuals.\n"
   ]
  },
  {
   "cell_type": "markdown",
   "metadata": {},
   "source": [
    "***\n",
    "\n",
    "## Propensity Score Weighting\n",
    "\n",
    "The idea is to weight the data so that the treated and control groups look similar. We can do this by weighting each observation by the inverse of its propensity score. This is called `propensity score weighting`.\n",
    "\n",
    "$$\n",
    "E[Y \\mid X, T=1]-E[Y \\mid X, T=0]=E\\left[\\frac{Y}{e(x)} \\mid X, T=1\\right] P(T)-E\\left[\\frac{Y}{(1-e(x))} \\mid X, T=0\\right](1-P(T))\n",
    "$$\n",
    "\n",
    "The first term is estimating $Y_{1}$. It is taking all those that are treated and scaling them by the inverse probability of treatment. What this does is it makes those with very low probability of treatment have a high weight. This makes sense, right? If someone has a low probability of treatment, that individual looks like the untreated. However, that same individual was treated."
   ]
  },
  {
   "cell_type": "code",
   "execution_count": 9,
   "metadata": {},
   "outputs": [
    {
     "name": "stdout",
     "output_type": "stream",
     "text": [
      "(10391, 32)\n"
     ]
    }
   ],
   "source": [
    "# estimation of propensity score\n",
    "\n",
    "categ = [\"ethnicity\", \"gender\", \"school_urbanicity\"]\n",
    "cont = [\"school_mindset\", \"school_achievement\", \"school_ethnic_minority\", \"school_poverty\", \"school_size\"]\n",
    "\n",
    "data_with_categ = pd.concat([\n",
    "    data.drop(columns=categ), # dataset without the categorical features\n",
    "    pd.get_dummies(data[categ], columns=categ, drop_first=False)# categorical features converted to dummies\n",
    "], axis=1)\n",
    "\n",
    "print(data_with_categ.shape)"
   ]
  },
  {
   "cell_type": "code",
   "execution_count": 10,
   "metadata": {},
   "outputs": [
    {
     "data": {
      "text/html": [
       "<div>\n",
       "<style scoped>\n",
       "    .dataframe tbody tr th:only-of-type {\n",
       "        vertical-align: middle;\n",
       "    }\n",
       "\n",
       "    .dataframe tbody tr th {\n",
       "        vertical-align: top;\n",
       "    }\n",
       "\n",
       "    .dataframe thead th {\n",
       "        text-align: right;\n",
       "    }\n",
       "</style>\n",
       "<table border=\"1\" class=\"dataframe\">\n",
       "  <thead>\n",
       "    <tr style=\"text-align: right;\">\n",
       "      <th></th>\n",
       "      <th>intervention</th>\n",
       "      <th>achievement_score</th>\n",
       "      <th>propensity_score</th>\n",
       "    </tr>\n",
       "  </thead>\n",
       "  <tbody>\n",
       "    <tr>\n",
       "      <th>0</th>\n",
       "      <td>1</td>\n",
       "      <td>0.277359</td>\n",
       "      <td>0.315488</td>\n",
       "    </tr>\n",
       "    <tr>\n",
       "      <th>1</th>\n",
       "      <td>1</td>\n",
       "      <td>-0.449646</td>\n",
       "      <td>0.263777</td>\n",
       "    </tr>\n",
       "    <tr>\n",
       "      <th>2</th>\n",
       "      <td>1</td>\n",
       "      <td>0.769703</td>\n",
       "      <td>0.344036</td>\n",
       "    </tr>\n",
       "    <tr>\n",
       "      <th>3</th>\n",
       "      <td>1</td>\n",
       "      <td>-0.121763</td>\n",
       "      <td>0.344036</td>\n",
       "    </tr>\n",
       "    <tr>\n",
       "      <th>4</th>\n",
       "      <td>1</td>\n",
       "      <td>1.526147</td>\n",
       "      <td>0.367799</td>\n",
       "    </tr>\n",
       "  </tbody>\n",
       "</table>\n",
       "</div>"
      ],
      "text/plain": [
       "   intervention  achievement_score  propensity_score\n",
       "0             1           0.277359          0.315488\n",
       "1             1          -0.449646          0.263777\n",
       "2             1           0.769703          0.344036\n",
       "3             1          -0.121763          0.344036\n",
       "4             1           1.526147          0.367799"
      ]
     },
     "execution_count": 10,
     "metadata": {},
     "output_type": "execute_result"
    }
   ],
   "source": [
    "T = 'intervention'\n",
    "Y = 'achievement_score'\n",
    "X = data_with_categ.columns.drop(['schoolid', T, Y])\n",
    "\n",
    "ps_model = LogisticRegression(C=1e6).fit(data_with_categ[X], data_with_categ[T])\n",
    "\n",
    "data_ps = data.assign(propensity_score=ps_model.predict_proba(data_with_categ[X])[:, 1])\n",
    "\n",
    "data_ps[[\"intervention\", \"achievement_score\", \"propensity_score\"]].head()"
   ]
  },
  {
   "cell_type": "code",
   "execution_count": 11,
   "metadata": {},
   "outputs": [
    {
     "name": "stdout",
     "output_type": "stream",
     "text": [
      "Original Sample Size 10391\n",
      "Treated Population Sample Size 10388.448526252736\n",
      "Untreated Population Sample Size 10391.479853445446\n"
     ]
    }
   ],
   "source": [
    "# check the balance of the covariates\n",
    "weight_t = 1/data_ps.query(\"intervention==1\")[\"propensity_score\"]\n",
    "weight_nt = 1/(1-data_ps.query(\"intervention==0\")[\"propensity_score\"])\n",
    "print(\"Original Sample Size\", data.shape[0])\n",
    "print(\"Treated Population Sample Size\", sum(weight_t))\n",
    "print(\"Untreated Population Sample Size\", sum(weight_nt))"
   ]
  },
  {
   "cell_type": "code",
   "execution_count": 12,
   "metadata": {},
   "outputs": [
    {
     "data": {
      "image/png": "[encoded data removed]",
      "text/plain": [
       "<Figure size 640x480 with 1 Axes>"
      ]
     },
     "metadata": {},
     "output_type": "display_data"
    }
   ],
   "source": [
    "# confounding evidence\n",
    "sns.boxplot(x=\"success_expect\", y=\"propensity_score\", data=data_ps)\n",
    "plt.title(\"Confounding Evidence\");"
   ]
  },
  {
   "cell_type": "code",
   "execution_count": 13,
   "metadata": {},
   "outputs": [
    {
     "name": "stdout",
     "output_type": "stream",
     "text": [
      "Y1: 0.2595954309963804\n",
      "Y0: -0.12893079239879937\n",
      "ATE 0.3885262233951796\n"
     ]
    }
   ],
   "source": [
    "# perform estimation\n",
    "weight = ((data_ps[\"intervention\"]-data_ps[\"propensity_score\"]) /\n",
    "          (data_ps[\"propensity_score\"]*(1-data_ps[\"propensity_score\"])))\n",
    "\n",
    "y1 = sum(data_ps.query(\"intervention==1\")[\"achievement_score\"]*weight_t) / len(data)\n",
    "y0 = sum(data_ps.query(\"intervention==0\")[\"achievement_score\"]*weight_nt) / len(data)\n",
    "\n",
    "ate = np.mean(weight * data_ps[\"achievement_score\"])\n",
    "\n",
    "print(\"Y1:\", y1)\n",
    "print(\"Y0:\", y0)\n",
    "print(\"ATE\", ate)"
   ]
  },
  {
   "cell_type": "markdown",
   "metadata": {},
   "source": [
    "***\n",
    "\n",
    "## Double Robust Estimation\n",
    "\n",
    "The idea is to use both the propensity score and the outcome model to estimate the treatment effect. This is called `double robust estimation`.\n",
    "\n",
    "Instead of deriving the estimator, let us consider:\n",
    "$$\n",
    "A \\hat{T} E=\\frac{1}{N} \\sum\\left(\\frac{T_i\\left(Y_i-\\hat{\\mu_1}\\left(X_i\\right)\\right)}{\\hat{P}\\left(X_i\\right)}+\\hat{\\mu_1}\\left(X_i\\right)\\right)-\\frac{1}{N} \\sum\\left(\\frac{\\left(1-T_i\\right)\\left(Y_i-\\hat{\\mu_0}\\left(X_i\\right)\\right)}{1-\\hat{P}\\left(X_i\\right)}+\\hat{\\mu}_0\\left(X_i\\right)\\right)\n",
    "$$\n",
    "where $\\hat{P}(x)$ is an estimation of the propensity score (using logistic regression, for example), $\\hat{\\mu}_1(x)$ is an estimation of $E[Y \\mid X, T=1]$ (using linear regression, for example), and $\\hat{\\mu_0}(x)$ is an estimation of $E[Y \\mid X, T=0]$. The first part of the doubly robust estimator estimates $E\\left[Y_1\\right]$ and the second part estimates $E\\left[Y_0\\right]$. "
   ]
  },
  {
   "cell_type": "code",
   "execution_count": 14,
   "metadata": {},
   "outputs": [],
   "source": [
    "def doubly_robust(df, X, T, Y):\n",
    "    ps = LogisticRegression(C=1e6, max_iter=1000).fit(df[X], df[T]).predict_proba(df[X])[:, 1]\n",
    "    mu0 = LinearRegression().fit(df.query(f\"{T}==0\")[X], df.query(f\"{T}==0\")[Y]).predict(df[X])\n",
    "    mu1 = LinearRegression().fit(df.query(f\"{T}==1\")[X], df.query(f\"{T}==1\")[Y]).predict(df[X])\n",
    "    return (\n",
    "        np.mean(df[T]*(df[Y] - mu1)/ps + mu1) -\n",
    "        np.mean((1-df[T])*(df[Y] - mu0)/(1-ps) + mu0)\n",
    "    )"
   ]
  },
  {
   "cell_type": "code",
   "execution_count": 17,
   "metadata": {},
   "outputs": [
    {
     "name": "stdout",
     "output_type": "stream",
     "text": [
      "ATE: 0.388220886631817\n"
     ]
    }
   ],
   "source": [
    "T = 'intervention'\n",
    "Y = 'achievement_score'\n",
    "X = data_with_categ.columns.drop(['schoolid', T, Y])\n",
    "\n",
    "dr = doubly_robust(data_with_categ, X, T, Y)\n",
    "print(\"ATE:\", dr)"
   ]
  }
 ],
 "metadata": {
  "kernelspec": {
   "display_name": "base",
   "language": "python",
   "name": "python3"
  },
  "language_info": {
   "codemirror_mode": {
    "name": "ipython",
    "version": 3
   },
   "file_extension": ".py",
   "mimetype": "text/x-python",
   "name": "python",
   "nbconvert_exporter": "python",
   "pygments_lexer": "ipython3",
   "version": "3.10.13"
  },
  "orig_nbformat": 4
 },
 "nbformat": 4,
 "nbformat_minor": 2
}
